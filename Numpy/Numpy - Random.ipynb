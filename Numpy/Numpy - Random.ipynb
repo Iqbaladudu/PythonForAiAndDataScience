{
 "cells": [
  {
   "cell_type": "markdown",
   "id": "0741cf22",
   "metadata": {},
   "source": [
    "## Mendapatkan Nilai Integer Secara Random"
   ]
  },
  {
   "cell_type": "code",
   "execution_count": 2,
   "id": "40e66d26",
   "metadata": {},
   "outputs": [],
   "source": [
    "from numpy import random"
   ]
  },
  {
   "cell_type": "code",
   "execution_count": 9,
   "id": "06729675",
   "metadata": {},
   "outputs": [],
   "source": [
    "x = random.randint(100)"
   ]
  },
  {
   "cell_type": "code",
   "execution_count": 10,
   "id": "f8e50d50",
   "metadata": {},
   "outputs": [
    {
     "data": {
      "text/plain": [
       "85"
      ]
     },
     "execution_count": 10,
     "metadata": {},
     "output_type": "execute_result"
    }
   ],
   "source": [
    "x"
   ]
  },
  {
   "cell_type": "markdown",
   "id": "fc559321",
   "metadata": {},
   "source": [
    "## Mendapatkan Nilai Float Secara Random"
   ]
  },
  {
   "cell_type": "code",
   "execution_count": 12,
   "id": "2de19db1",
   "metadata": {},
   "outputs": [],
   "source": [
    "x = random.rand(100)"
   ]
  },
  {
   "cell_type": "code",
   "execution_count": 13,
   "id": "e1f45fe7",
   "metadata": {},
   "outputs": [
    {
     "data": {
      "text/plain": [
       "array([0.93315078, 0.93905528, 0.52272672, 0.88593657, 0.42729187,\n",
       "       0.06495536, 0.79637039, 0.85548936, 0.30227281, 0.18172116,\n",
       "       0.73240857, 0.84073497, 0.94246198, 0.9176035 , 0.01183332,\n",
       "       0.14278457, 0.6921284 , 0.89105393, 0.87843754, 0.81556759,\n",
       "       0.58094451, 0.36873314, 0.22655502, 0.5682501 , 0.56268711,\n",
       "       0.87121491, 0.23314034, 0.83057355, 0.69158339, 0.82093173,\n",
       "       0.89933629, 0.29043115, 0.5202835 , 0.67781055, 0.33268258,\n",
       "       0.39696624, 0.3370382 , 0.54634465, 0.42988916, 0.8689849 ,\n",
       "       0.47695931, 0.61186019, 0.37277807, 0.09877965, 0.07944964,\n",
       "       0.47591546, 0.83736588, 0.70977575, 0.93545305, 0.52776451,\n",
       "       0.91237811, 0.76339636, 0.81492773, 0.05854543, 0.40947712,\n",
       "       0.85481581, 0.95751605, 0.40941674, 0.11208557, 0.52219561,\n",
       "       0.54598566, 0.3099493 , 0.27558769, 0.29350029, 0.49098348,\n",
       "       0.26570199, 0.58289457, 0.11702958, 0.79306965, 0.07283001,\n",
       "       0.26251984, 0.91532813, 0.57849154, 0.00678261, 0.25246992,\n",
       "       0.86595415, 0.88965577, 0.01017364, 0.18495775, 0.7764686 ,\n",
       "       0.94552104, 0.78720063, 0.40617898, 0.53710895, 0.12004238,\n",
       "       0.43368401, 0.24348743, 0.92937895, 0.38458385, 0.19155682,\n",
       "       0.7923863 , 0.81611747, 0.88232963, 0.0659931 , 0.17428844,\n",
       "       0.14940734, 0.78739695, 0.98284215, 0.29774506, 0.24134283])"
      ]
     },
     "execution_count": 13,
     "metadata": {},
     "output_type": "execute_result"
    }
   ],
   "source": [
    "x"
   ]
  },
  {
   "cell_type": "code",
   "execution_count": 14,
   "id": "69665694",
   "metadata": {},
   "outputs": [],
   "source": [
    "x = random.rand()"
   ]
  },
  {
   "cell_type": "code",
   "execution_count": 15,
   "id": "87d5d806",
   "metadata": {},
   "outputs": [
    {
     "data": {
      "text/plain": [
       "0.5846894942495294"
      ]
     },
     "execution_count": 15,
     "metadata": {},
     "output_type": "execute_result"
    }
   ],
   "source": [
    "x"
   ]
  },
  {
   "cell_type": "markdown",
   "id": "33c07248",
   "metadata": {},
   "source": [
    "## Membuat Array nD Dengan Nilai Integer Secara Random"
   ]
  },
  {
   "cell_type": "code",
   "execution_count": 17,
   "id": "c60bd461",
   "metadata": {},
   "outputs": [],
   "source": [
    "# 1 Dimensi\n",
    "x = random.randint(100, size=(5))"
   ]
  },
  {
   "cell_type": "code",
   "execution_count": 18,
   "id": "6beb9c2e",
   "metadata": {},
   "outputs": [
    {
     "data": {
      "text/plain": [
       "array([23, 75, 51, 73, 54])"
      ]
     },
     "execution_count": 18,
     "metadata": {},
     "output_type": "execute_result"
    }
   ],
   "source": [
    "x"
   ]
  },
  {
   "cell_type": "code",
   "execution_count": 19,
   "id": "85d24d8c",
   "metadata": {},
   "outputs": [],
   "source": [
    "# 2 Dimensi\n",
    "x = random.randint(100, size=(3, 5))"
   ]
  },
  {
   "cell_type": "code",
   "execution_count": 20,
   "id": "796368d5",
   "metadata": {},
   "outputs": [
    {
     "data": {
      "text/plain": [
       "array([[95, 47, 54, 74, 88],\n",
       "       [ 4, 93, 19, 47, 22],\n",
       "       [72, 53, 97, 12,  8]])"
      ]
     },
     "execution_count": 20,
     "metadata": {},
     "output_type": "execute_result"
    }
   ],
   "source": [
    "x"
   ]
  },
  {
   "cell_type": "code",
   "execution_count": 22,
   "id": "2bd6ea10",
   "metadata": {},
   "outputs": [],
   "source": [
    "# 3 Dimensi\n",
    "x = random.randint(100, size=(3, 5, 4))"
   ]
  },
  {
   "cell_type": "code",
   "execution_count": 23,
   "id": "9c35614d",
   "metadata": {},
   "outputs": [
    {
     "data": {
      "text/plain": [
       "array([[[27, 22, 37, 41],\n",
       "        [ 1, 53, 13, 11],\n",
       "        [15,  6, 31, 14],\n",
       "        [16,  5, 47, 14],\n",
       "        [91, 66, 69, 25]],\n",
       "\n",
       "       [[ 5, 50, 24, 96],\n",
       "        [41, 40, 88, 38],\n",
       "        [86, 56, 63, 42],\n",
       "        [94, 79, 40, 95],\n",
       "        [43, 80, 30, 59]],\n",
       "\n",
       "       [[ 3, 77, 55, 52],\n",
       "        [31, 98, 55, 73],\n",
       "        [82, 14, 62, 31],\n",
       "        [10, 83, 60, 20],\n",
       "        [43, 40, 33, 88]]])"
      ]
     },
     "execution_count": 23,
     "metadata": {},
     "output_type": "execute_result"
    }
   ],
   "source": [
    "x"
   ]
  },
  {
   "cell_type": "markdown",
   "id": "379939cb",
   "metadata": {},
   "source": [
    "## Membuat Array nD Dengan Nilai FLoat Secara Random"
   ]
  },
  {
   "cell_type": "code",
   "execution_count": 26,
   "id": "a46a137c",
   "metadata": {},
   "outputs": [],
   "source": [
    "# 1D\n",
    "x = random.rand(5)"
   ]
  },
  {
   "cell_type": "code",
   "execution_count": 25,
   "id": "ff3dd1be",
   "metadata": {},
   "outputs": [
    {
     "data": {
      "text/plain": [
       "array([0.97850081, 0.62451905, 0.38637172, 0.56244002, 0.3749933 ])"
      ]
     },
     "execution_count": 25,
     "metadata": {},
     "output_type": "execute_result"
    }
   ],
   "source": [
    "x"
   ]
  },
  {
   "cell_type": "code",
   "execution_count": 30,
   "id": "3028b65d",
   "metadata": {},
   "outputs": [],
   "source": [
    "# 2D\n",
    "x = random.rand(3, 5)"
   ]
  },
  {
   "cell_type": "code",
   "execution_count": 28,
   "id": "aba50826",
   "metadata": {},
   "outputs": [
    {
     "data": {
      "text/plain": [
       "array([[0.15747905, 0.44230947, 0.53475435, 0.52227705, 0.18456245],\n",
       "       [0.97181604, 0.36759399, 0.42926897, 0.95489375, 0.52052068],\n",
       "       [0.28144263, 0.7368391 , 0.18112346, 0.19780686, 0.7059483 ]])"
      ]
     },
     "execution_count": 28,
     "metadata": {},
     "output_type": "execute_result"
    }
   ],
   "source": [
    "x"
   ]
  },
  {
   "cell_type": "code",
   "execution_count": 32,
   "id": "18d52db0",
   "metadata": {},
   "outputs": [],
   "source": [
    "# 3D\n",
    "x = random.rand(3, 5, 6)"
   ]
  },
  {
   "cell_type": "code",
   "execution_count": 33,
   "id": "2400f58c",
   "metadata": {},
   "outputs": [
    {
     "data": {
      "text/plain": [
       "array([[[0.07308532, 0.83447564, 0.66061433, 0.04834194, 0.53707277,\n",
       "         0.33172957],\n",
       "        [0.88464764, 0.26882276, 0.02344909, 0.04662152, 0.47976168,\n",
       "         0.57234094],\n",
       "        [0.7576718 , 0.80134468, 0.4078705 , 0.51949087, 0.09526527,\n",
       "         0.52846098],\n",
       "        [0.00114799, 0.7380646 , 0.12401311, 0.49398422, 0.2231721 ,\n",
       "         0.3102843 ],\n",
       "        [0.50740893, 0.44519092, 0.67238977, 0.3050334 , 0.81087166,\n",
       "         0.92995011]],\n",
       "\n",
       "       [[0.10467807, 0.91829524, 0.412179  , 0.06303326, 0.62779917,\n",
       "         0.17001506],\n",
       "        [0.01823891, 0.06957731, 0.24622313, 0.8556813 , 0.98847141,\n",
       "         0.49762986],\n",
       "        [0.78942228, 0.67193215, 0.54722699, 0.84927729, 0.332005  ,\n",
       "         0.68315777],\n",
       "        [0.66489018, 0.51485204, 0.00683648, 0.20589991, 0.2843304 ,\n",
       "         0.72613944],\n",
       "        [0.46190688, 0.64592258, 0.29101224, 0.43043413, 0.89038104,\n",
       "         0.99554365]],\n",
       "\n",
       "       [[0.10520911, 0.11934621, 0.90597746, 0.18721936, 0.16204275,\n",
       "         0.75364453],\n",
       "        [0.41251985, 0.68223829, 0.69574922, 0.74509325, 0.37950167,\n",
       "         0.97498073],\n",
       "        [0.27822371, 0.09935335, 0.33278887, 0.22564439, 0.72824294,\n",
       "         0.36801998],\n",
       "        [0.07268751, 0.84331582, 0.33243117, 0.75087485, 0.29655697,\n",
       "         0.11299644],\n",
       "        [0.67748572, 0.45402965, 0.06699275, 0.32051907, 0.75958468,\n",
       "         0.97192578]]])"
      ]
     },
     "execution_count": 33,
     "metadata": {},
     "output_type": "execute_result"
    }
   ],
   "source": [
    "x"
   ]
  },
  {
   "cell_type": "code",
   "execution_count": 34,
   "id": "cec6d98e",
   "metadata": {},
   "outputs": [
    {
     "data": {
      "text/plain": [
       "3"
      ]
     },
     "execution_count": 34,
     "metadata": {},
     "output_type": "execute_result"
    }
   ],
   "source": [
    "x.ndim"
   ]
  },
  {
   "cell_type": "markdown",
   "id": "10054347",
   "metadata": {},
   "source": [
    "## Membuat Nilai Integer Random dari Array 1D"
   ]
  },
  {
   "cell_type": "code",
   "execution_count": 35,
   "id": "8badf614",
   "metadata": {},
   "outputs": [],
   "source": [
    "x = random.choice([3, 5, 7, 9])"
   ]
  },
  {
   "cell_type": "code",
   "execution_count": 36,
   "id": "efd03790",
   "metadata": {},
   "outputs": [
    {
     "data": {
      "text/plain": [
       "7"
      ]
     },
     "execution_count": 36,
     "metadata": {},
     "output_type": "execute_result"
    }
   ],
   "source": [
    "x"
   ]
  },
  {
   "cell_type": "markdown",
   "id": "ecad360b",
   "metadata": {},
   "source": [
    "## Mengacak Nilai yang Ada Pada Array 1D"
   ]
  },
  {
   "cell_type": "code",
   "execution_count": 37,
   "id": "8229f207",
   "metadata": {},
   "outputs": [],
   "source": [
    "import numpy as np"
   ]
  },
  {
   "cell_type": "code",
   "execution_count": 39,
   "id": "8b248791",
   "metadata": {},
   "outputs": [],
   "source": [
    "arr = np.array([1, 2, 3, 4, 5])"
   ]
  },
  {
   "cell_type": "code",
   "execution_count": 40,
   "id": "f0aa06e4",
   "metadata": {},
   "outputs": [],
   "source": [
    "random.shuffle(arr)"
   ]
  },
  {
   "cell_type": "code",
   "execution_count": 41,
   "id": "a27b2589",
   "metadata": {},
   "outputs": [
    {
     "data": {
      "text/plain": [
       "array([4, 3, 1, 2, 5])"
      ]
     },
     "execution_count": 41,
     "metadata": {},
     "output_type": "execute_result"
    }
   ],
   "source": [
    "arr"
   ]
  },
  {
   "cell_type": "code",
   "execution_count": null,
   "id": "c5ec4193",
   "metadata": {},
   "outputs": [],
   "source": []
  }
 ],
 "metadata": {
  "kernelspec": {
   "display_name": "Python 3 (ipykernel)",
   "language": "python",
   "name": "python3"
  },
  "language_info": {
   "codemirror_mode": {
    "name": "ipython",
    "version": 3
   },
   "file_extension": ".py",
   "mimetype": "text/x-python",
   "name": "python",
   "nbconvert_exporter": "python",
   "pygments_lexer": "ipython3",
   "version": "3.10.7"
  }
 },
 "nbformat": 4,
 "nbformat_minor": 5
}
