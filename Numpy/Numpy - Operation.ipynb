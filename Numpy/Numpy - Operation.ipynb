{
 "cells": [
  {
   "cell_type": "markdown",
   "id": "5b3c05f5",
   "metadata": {},
   "source": [
    "## Iterasi pada Numpy Array 1D"
   ]
  },
  {
   "cell_type": "code",
   "execution_count": 1,
   "id": "7cecb5ed",
   "metadata": {},
   "outputs": [],
   "source": [
    "import numpy as np"
   ]
  },
  {
   "cell_type": "code",
   "execution_count": 2,
   "id": "ba16aa6b",
   "metadata": {},
   "outputs": [],
   "source": [
    "arr = np.array([1, 2, 3])"
   ]
  },
  {
   "cell_type": "code",
   "execution_count": 3,
   "id": "02f872b5",
   "metadata": {},
   "outputs": [
    {
     "name": "stdout",
     "output_type": "stream",
     "text": [
      "1\n",
      "2\n",
      "3\n"
     ]
    }
   ],
   "source": [
    "for x in arr:\n",
    "    print(x)"
   ]
  },
  {
   "cell_type": "markdown",
   "id": "b83c4306",
   "metadata": {},
   "source": [
    "## Iterasi pada Numpy Array 2D"
   ]
  },
  {
   "cell_type": "code",
   "execution_count": 4,
   "id": "9a1cf804",
   "metadata": {},
   "outputs": [],
   "source": [
    "arr = np.array([[1, 2, 3], [4, 5, 6]])"
   ]
  },
  {
   "cell_type": "code",
   "execution_count": 5,
   "id": "60861a8d",
   "metadata": {},
   "outputs": [
    {
     "name": "stdout",
     "output_type": "stream",
     "text": [
      "[1 2 3]\n",
      "[4 5 6]\n"
     ]
    }
   ],
   "source": [
    "for x in arr:\n",
    "    print(x)"
   ]
  },
  {
   "cell_type": "markdown",
   "id": "9aa89408",
   "metadata": {},
   "source": [
    "## Iterasi pada Numpy Array 2D"
   ]
  },
  {
   "cell_type": "code",
   "execution_count": 16,
   "id": "060bdea7",
   "metadata": {},
   "outputs": [],
   "source": [
    "arr = np.array([[[1, 2, 3], [4, 5, 6], [7, 8, 9]]])"
   ]
  },
  {
   "cell_type": "code",
   "execution_count": 17,
   "id": "9e8cff97",
   "metadata": {},
   "outputs": [
    {
     "data": {
      "text/plain": [
       "3"
      ]
     },
     "execution_count": 17,
     "metadata": {},
     "output_type": "execute_result"
    }
   ],
   "source": [
    "arr.ndim"
   ]
  },
  {
   "cell_type": "code",
   "execution_count": 18,
   "id": "1f56656a",
   "metadata": {},
   "outputs": [
    {
     "name": "stdout",
     "output_type": "stream",
     "text": [
      "[[1 2 3]\n",
      " [4 5 6]\n",
      " [7 8 9]]\n"
     ]
    }
   ],
   "source": [
    "for x in arr:\n",
    "    print(x)"
   ]
  },
  {
   "cell_type": "markdown",
   "id": "842f544b",
   "metadata": {},
   "source": [
    "## Iterasi Dengan nditer()"
   ]
  },
  {
   "cell_type": "code",
   "execution_count": 24,
   "id": "77947295",
   "metadata": {},
   "outputs": [],
   "source": [
    "arr = np.array([[[1, 2, 3], [4, 5, 6], [7, 8, 9], [10, 11, 12]]])"
   ]
  },
  {
   "cell_type": "code",
   "execution_count": 26,
   "id": "0a2a5be5",
   "metadata": {},
   "outputs": [
    {
     "name": "stdout",
     "output_type": "stream",
     "text": [
      "1\n",
      "2\n",
      "3\n",
      "4\n",
      "5\n",
      "6\n",
      "7\n",
      "8\n",
      "9\n",
      "10\n",
      "11\n",
      "12\n"
     ]
    }
   ],
   "source": [
    "for x in np.nditer(arr):\n",
    "    print(x)"
   ]
  },
  {
   "cell_type": "markdown",
   "id": "1dba27e4",
   "metadata": {},
   "source": [
    "## Iterasi dengan ndenumerate() pada Array 1D"
   ]
  },
  {
   "cell_type": "code",
   "execution_count": 27,
   "id": "c847adf0",
   "metadata": {},
   "outputs": [],
   "source": [
    "arr = np.array([1, 2, 3])"
   ]
  },
  {
   "cell_type": "code",
   "execution_count": 28,
   "id": "7d2a744f",
   "metadata": {},
   "outputs": [
    {
     "name": "stdout",
     "output_type": "stream",
     "text": [
      "(0,) 1\n",
      "(1,) 2\n",
      "(2,) 3\n"
     ]
    }
   ],
   "source": [
    "for idx, x in np.ndenumerate(arr):\n",
    "    print(idx, x)"
   ]
  },
  {
   "cell_type": "markdown",
   "id": "514ad448",
   "metadata": {},
   "source": [
    "## Iterasi dengan ndenumerate() pada Array 1D"
   ]
  },
  {
   "cell_type": "code",
   "execution_count": 29,
   "id": "b8e99e05",
   "metadata": {},
   "outputs": [],
   "source": [
    "arr = np.array([[[1, 2, 3], [4, 5, 6], [7, 8, 9], [10, 11, 12]]])"
   ]
  },
  {
   "cell_type": "code",
   "execution_count": 30,
   "id": "1f0aecb6",
   "metadata": {},
   "outputs": [
    {
     "name": "stdout",
     "output_type": "stream",
     "text": [
      "(0, 0, 0) 1\n",
      "(0, 0, 1) 2\n",
      "(0, 0, 2) 3\n",
      "(0, 1, 0) 4\n",
      "(0, 1, 1) 5\n",
      "(0, 1, 2) 6\n",
      "(0, 2, 0) 7\n",
      "(0, 2, 1) 8\n",
      "(0, 2, 2) 9\n",
      "(0, 3, 0) 10\n",
      "(0, 3, 1) 11\n",
      "(0, 3, 2) 12\n"
     ]
    }
   ],
   "source": [
    "for idx, x in np.ndenumerate(arr):\n",
    "    print(idx, x)"
   ]
  },
  {
   "cell_type": "markdown",
   "id": "89a9672a",
   "metadata": {},
   "source": [
    "## Join terhadap 2 Array 1D"
   ]
  },
  {
   "cell_type": "code",
   "execution_count": 32,
   "id": "8dad933f",
   "metadata": {},
   "outputs": [],
   "source": [
    "arr1 = np.array([1, 2, 3])\n",
    "arr2 = np.array([1, 2, 3])"
   ]
  },
  {
   "cell_type": "code",
   "execution_count": 33,
   "id": "5cdc22c4",
   "metadata": {},
   "outputs": [],
   "source": [
    "arr = np.concatenate((arr1, arr2))"
   ]
  },
  {
   "cell_type": "code",
   "execution_count": 34,
   "id": "f689c4ff",
   "metadata": {},
   "outputs": [
    {
     "data": {
      "text/plain": [
       "array([1, 2, 3, 1, 2, 3])"
      ]
     },
     "execution_count": 34,
     "metadata": {},
     "output_type": "execute_result"
    }
   ],
   "source": [
    "arr"
   ]
  },
  {
   "cell_type": "markdown",
   "id": "13105800",
   "metadata": {},
   "source": [
    "## Join terhadap 2 Array 1D"
   ]
  },
  {
   "cell_type": "code",
   "execution_count": 37,
   "id": "090901f2",
   "metadata": {},
   "outputs": [],
   "source": [
    "arr1 = np.array([[1, 2, 3], [4, 5, 6]])\n",
    "arr2 = np.array([[7, 8, 9], [10, 11, 12]])"
   ]
  },
  {
   "cell_type": "code",
   "execution_count": 38,
   "id": "3ae72b5f",
   "metadata": {},
   "outputs": [],
   "source": [
    "arr = np.concatenate((arr1, arr2))"
   ]
  },
  {
   "cell_type": "code",
   "execution_count": 39,
   "id": "f443505e",
   "metadata": {},
   "outputs": [
    {
     "data": {
      "text/plain": [
       "array([[ 1,  2,  3],\n",
       "       [ 4,  5,  6],\n",
       "       [ 7,  8,  9],\n",
       "       [10, 11, 12]])"
      ]
     },
     "execution_count": 39,
     "metadata": {},
     "output_type": "execute_result"
    }
   ],
   "source": [
    "arr"
   ]
  },
  {
   "cell_type": "code",
   "execution_count": 40,
   "id": "b6d87732",
   "metadata": {},
   "outputs": [
    {
     "data": {
      "text/plain": [
       "((4, 3), 2)"
      ]
     },
     "execution_count": 40,
     "metadata": {},
     "output_type": "execute_result"
    }
   ],
   "source": [
    "arr.shape, arr.ndim"
   ]
  },
  {
   "cell_type": "code",
   "execution_count": 41,
   "id": "cf159efa",
   "metadata": {},
   "outputs": [],
   "source": [
    "arr = np.concatenate((arr1, arr2), axis=1)"
   ]
  },
  {
   "cell_type": "code",
   "execution_count": 42,
   "id": "f22398a0",
   "metadata": {},
   "outputs": [
    {
     "data": {
      "text/plain": [
       "array([[ 1,  2,  3,  7,  8,  9],\n",
       "       [ 4,  5,  6, 10, 11, 12]])"
      ]
     },
     "execution_count": 42,
     "metadata": {},
     "output_type": "execute_result"
    }
   ],
   "source": [
    "arr"
   ]
  },
  {
   "cell_type": "code",
   "execution_count": 43,
   "id": "8e30916a",
   "metadata": {},
   "outputs": [
    {
     "data": {
      "text/plain": [
       "((2, 6), 2)"
      ]
     },
     "execution_count": 43,
     "metadata": {},
     "output_type": "execute_result"
    }
   ],
   "source": [
    "arr.shape, arr.ndim"
   ]
  },
  {
   "cell_type": "markdown",
   "id": "7eb49c4a",
   "metadata": {},
   "source": [
    "## Stack Terhadap 2 Array 1D"
   ]
  },
  {
   "cell_type": "code",
   "execution_count": 44,
   "id": "9ee66a19",
   "metadata": {},
   "outputs": [],
   "source": [
    "arr1 = np.array([1, 2, 3])\n",
    "arr2 = np.array([1, 2, 3])"
   ]
  },
  {
   "cell_type": "code",
   "execution_count": 48,
   "id": "04c58eb9",
   "metadata": {},
   "outputs": [],
   "source": [
    "# By default vertikal\n",
    "arr = np.stack((arr1, arr2))"
   ]
  },
  {
   "cell_type": "code",
   "execution_count": 46,
   "id": "57764e09",
   "metadata": {},
   "outputs": [
    {
     "data": {
      "text/plain": [
       "array([[1, 2, 3],\n",
       "       [1, 2, 3]])"
      ]
     },
     "execution_count": 46,
     "metadata": {},
     "output_type": "execute_result"
    }
   ],
   "source": [
    "arr"
   ]
  },
  {
   "cell_type": "code",
   "execution_count": 47,
   "id": "c8848bb8",
   "metadata": {},
   "outputs": [
    {
     "data": {
      "text/plain": [
       "(2, 3)"
      ]
     },
     "execution_count": 47,
     "metadata": {},
     "output_type": "execute_result"
    }
   ],
   "source": [
    "arr.shape"
   ]
  },
  {
   "cell_type": "markdown",
   "id": "64f44e1a",
   "metadata": {},
   "source": [
    "## Stack 2 Array 1D Dengan hstack()"
   ]
  },
  {
   "cell_type": "code",
   "execution_count": 52,
   "id": "505d332c",
   "metadata": {},
   "outputs": [],
   "source": [
    "arr1 = np.array([1, 2, 3])\n",
    "arr2 = np.array([4, 5, 6])"
   ]
  },
  {
   "cell_type": "code",
   "execution_count": 50,
   "id": "985204dd",
   "metadata": {},
   "outputs": [],
   "source": [
    "arr = np.hstack((arr1, arr2))"
   ]
  },
  {
   "cell_type": "code",
   "execution_count": 51,
   "id": "a6f46ec9",
   "metadata": {},
   "outputs": [
    {
     "name": "stdout",
     "output_type": "stream",
     "text": [
      "[1 2 3 1 2 3]\n"
     ]
    }
   ],
   "source": [
    "print(arr)"
   ]
  },
  {
   "cell_type": "markdown",
   "id": "4c1099cd",
   "metadata": {},
   "source": [
    "## Stack 2 Array 1D Dengan vstack()"
   ]
  },
  {
   "cell_type": "code",
   "execution_count": 53,
   "id": "4c168923",
   "metadata": {},
   "outputs": [],
   "source": [
    "arr1 = np.array([1, 2, 3])\n",
    "arr2 = np.array([4, 5, 6])"
   ]
  },
  {
   "cell_type": "code",
   "execution_count": 55,
   "id": "0713ace5",
   "metadata": {},
   "outputs": [],
   "source": [
    "arr = np.vstack((arr1, arr2))"
   ]
  },
  {
   "cell_type": "code",
   "execution_count": 56,
   "id": "b2cc2d65",
   "metadata": {},
   "outputs": [
    {
     "name": "stdout",
     "output_type": "stream",
     "text": [
      "[[1 2 3]\n",
      " [4 5 6]]\n"
     ]
    }
   ],
   "source": [
    "print(arr)"
   ]
  },
  {
   "cell_type": "markdown",
   "id": "083c19e0",
   "metadata": {},
   "source": [
    "## Split Terhadap Array 1D"
   ]
  },
  {
   "cell_type": "code",
   "execution_count": 62,
   "id": "5f5f628c",
   "metadata": {},
   "outputs": [],
   "source": [
    "arr = np.array([1, 2, 3, 4, 5, 6])"
   ]
  },
  {
   "cell_type": "code",
   "execution_count": 63,
   "id": "34f36af0",
   "metadata": {},
   "outputs": [],
   "source": [
    "arr = np.array_split(arr, 4)"
   ]
  },
  {
   "cell_type": "code",
   "execution_count": 65,
   "id": "19441348",
   "metadata": {},
   "outputs": [
    {
     "data": {
      "text/plain": [
       "[array([1, 2]), array([3, 4]), array([5]), array([6])]"
      ]
     },
     "execution_count": 65,
     "metadata": {},
     "output_type": "execute_result"
    }
   ],
   "source": [
    "# Array-nya akan dibagi menjadi 4 bagian\n",
    "arr"
   ]
  },
  {
   "cell_type": "markdown",
   "id": "b2c71021",
   "metadata": {},
   "source": [
    "## Split Terhadap Array 1D"
   ]
  },
  {
   "cell_type": "code",
   "execution_count": 66,
   "id": "b59a8e45",
   "metadata": {},
   "outputs": [],
   "source": [
    "arr = np.array([[7, 8, 9], [10, 11, 12]])"
   ]
  },
  {
   "cell_type": "code",
   "execution_count": 76,
   "id": "bc13bbfb",
   "metadata": {},
   "outputs": [],
   "source": [
    "arr = np.array_split(arr, 3)"
   ]
  },
  {
   "cell_type": "code",
   "execution_count": 77,
   "id": "0d63952d",
   "metadata": {},
   "outputs": [
    {
     "data": {
      "text/plain": [
       "[array([[array([array([array([array([[7, 8, 9]]), array([[10, 11, 12]])], dtype=object),\n",
       "                       array([array([], shape=(0, 3), dtype=int64)], dtype=object)],\n",
       "                      dtype=object)                                                     ],\n",
       "               dtype=object)                                                              ,\n",
       "         array([array([array([array([], shape=(0, 3), dtype=int64)], dtype=object)],\n",
       "                      dtype=object)                                                 ],\n",
       "               dtype=object)                                                          ,\n",
       "         array([], dtype=object)]], dtype=object),\n",
       " array([[array([], dtype=object), array([], dtype=object),\n",
       "         array([], dtype=object)]], dtype=object),\n",
       " array([], shape=(0, 3), dtype=object)]"
      ]
     },
     "execution_count": 77,
     "metadata": {},
     "output_type": "execute_result"
    }
   ],
   "source": [
    "arr"
   ]
  },
  {
   "cell_type": "markdown",
   "id": "8d937135",
   "metadata": {},
   "source": [
    "## Search pada Array 1D"
   ]
  },
  {
   "cell_type": "code",
   "execution_count": 78,
   "id": "b0784a00",
   "metadata": {},
   "outputs": [],
   "source": [
    "arr = np.array([1, 2, 3, 4, 5, 4, 4, 5])"
   ]
  },
  {
   "cell_type": "code",
   "execution_count": 79,
   "id": "80b754f2",
   "metadata": {},
   "outputs": [],
   "source": [
    "x = np.where(arr == 4)"
   ]
  },
  {
   "cell_type": "code",
   "execution_count": 80,
   "id": "665f7e37",
   "metadata": {},
   "outputs": [
    {
     "data": {
      "text/plain": [
       "(array([3, 5, 6]),)"
      ]
     },
     "execution_count": 80,
     "metadata": {},
     "output_type": "execute_result"
    }
   ],
   "source": [
    "x"
   ]
  },
  {
   "cell_type": "code",
   "execution_count": 83,
   "id": "9a299588",
   "metadata": {},
   "outputs": [],
   "source": [
    "x = np.where(arr**2 == 4)"
   ]
  },
  {
   "cell_type": "code",
   "execution_count": 84,
   "id": "b96dac24",
   "metadata": {},
   "outputs": [
    {
     "data": {
      "text/plain": [
       "(array([1]),)"
      ]
     },
     "execution_count": 84,
     "metadata": {},
     "output_type": "execute_result"
    }
   ],
   "source": [
    "x"
   ]
  },
  {
   "cell_type": "markdown",
   "id": "661299d4",
   "metadata": {},
   "source": [
    "## Sort Pada Array 1D"
   ]
  },
  {
   "cell_type": "code",
   "execution_count": 85,
   "id": "356d19f4",
   "metadata": {},
   "outputs": [],
   "source": [
    "arr = np.array([2, 3, 0, 1])"
   ]
  },
  {
   "cell_type": "code",
   "execution_count": 86,
   "id": "76996450",
   "metadata": {},
   "outputs": [
    {
     "data": {
      "text/plain": [
       "array([0, 1, 2, 3])"
      ]
     },
     "execution_count": 86,
     "metadata": {},
     "output_type": "execute_result"
    }
   ],
   "source": [
    "np.sort(arr)"
   ]
  },
  {
   "cell_type": "code",
   "execution_count": 87,
   "id": "51442972",
   "metadata": {},
   "outputs": [],
   "source": [
    "arr = np.array(['pisang', 'apel', 'melon'])"
   ]
  },
  {
   "cell_type": "code",
   "execution_count": 88,
   "id": "82d2a6e3",
   "metadata": {},
   "outputs": [
    {
     "data": {
      "text/plain": [
       "array(['apel', 'melon', 'pisang'], dtype='<U6')"
      ]
     },
     "execution_count": 88,
     "metadata": {},
     "output_type": "execute_result"
    }
   ],
   "source": [
    "np.sort(arr)"
   ]
  },
  {
   "cell_type": "markdown",
   "id": "aa362f2d",
   "metadata": {},
   "source": [
    "## Sort Pada Array 2D"
   ]
  },
  {
   "cell_type": "code",
   "execution_count": 89,
   "id": "b3cbb50e",
   "metadata": {},
   "outputs": [],
   "source": [
    "arr = np.array([[3, 2, 4], [5, 0, 1]])"
   ]
  },
  {
   "cell_type": "code",
   "execution_count": 90,
   "id": "9e293fc9",
   "metadata": {},
   "outputs": [
    {
     "data": {
      "text/plain": [
       "array([[2, 3, 4],\n",
       "       [0, 1, 5]])"
      ]
     },
     "execution_count": 90,
     "metadata": {},
     "output_type": "execute_result"
    }
   ],
   "source": [
    "np.sort(arr)"
   ]
  },
  {
   "cell_type": "code",
   "execution_count": null,
   "id": "a75583be",
   "metadata": {},
   "outputs": [],
   "source": []
  }
 ],
 "metadata": {
  "kernelspec": {
   "display_name": "Python 3 (ipykernel)",
   "language": "python",
   "name": "python3"
  },
  "language_info": {
   "codemirror_mode": {
    "name": "ipython",
    "version": 3
   },
   "file_extension": ".py",
   "mimetype": "text/x-python",
   "name": "python",
   "nbconvert_exporter": "python",
   "pygments_lexer": "ipython3",
   "version": "3.10.7"
  }
 },
 "nbformat": 4,
 "nbformat_minor": 5
}
