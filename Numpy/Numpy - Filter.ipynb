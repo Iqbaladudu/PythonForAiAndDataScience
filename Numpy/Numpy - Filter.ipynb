{
 "cells": [
  {
   "cell_type": "markdown",
   "id": "20368654",
   "metadata": {},
   "source": [
    "## Filter Pada Numpy Array 1D"
   ]
  },
  {
   "cell_type": "code",
   "execution_count": 1,
   "id": "a45c68fe",
   "metadata": {},
   "outputs": [],
   "source": [
    "import numpy as np"
   ]
  },
  {
   "cell_type": "code",
   "execution_count": 2,
   "id": "096f63f6",
   "metadata": {},
   "outputs": [],
   "source": [
    "arr = np.array([41, 42, 43, 44])"
   ]
  },
  {
   "cell_type": "code",
   "execution_count": 3,
   "id": "f7cd73b2",
   "metadata": {},
   "outputs": [],
   "source": [
    "x = [True, False, True, False]"
   ]
  },
  {
   "cell_type": "code",
   "execution_count": 4,
   "id": "9ee94bc1",
   "metadata": {},
   "outputs": [],
   "source": [
    "arr = arr[x]"
   ]
  },
  {
   "cell_type": "code",
   "execution_count": 5,
   "id": "3d4be118",
   "metadata": {},
   "outputs": [
    {
     "data": {
      "text/plain": [
       "array([41, 43])"
      ]
     },
     "execution_count": 5,
     "metadata": {},
     "output_type": "execute_result"
    }
   ],
   "source": [
    "arr"
   ]
  },
  {
   "cell_type": "code",
   "execution_count": 6,
   "id": "4f10305f",
   "metadata": {},
   "outputs": [],
   "source": [
    "arr = np.array([41, 42, 43, 44])"
   ]
  },
  {
   "cell_type": "code",
   "execution_count": 7,
   "id": "578d47c0",
   "metadata": {},
   "outputs": [],
   "source": [
    "filter_arr = arr > 42"
   ]
  },
  {
   "cell_type": "code",
   "execution_count": 8,
   "id": "24d7c683",
   "metadata": {},
   "outputs": [],
   "source": [
    "arr = arr[filter_arr]"
   ]
  },
  {
   "cell_type": "code",
   "execution_count": 9,
   "id": "0012a037",
   "metadata": {},
   "outputs": [
    {
     "data": {
      "text/plain": [
       "array([43, 44])"
      ]
     },
     "execution_count": 9,
     "metadata": {},
     "output_type": "execute_result"
    }
   ],
   "source": [
    "arr"
   ]
  },
  {
   "cell_type": "markdown",
   "id": "43f7ecc6",
   "metadata": {},
   "source": [
    "## Filter Pada Numpy Array 1D Menggunakan Lebih Dari 1 Kondisi"
   ]
  },
  {
   "cell_type": "code",
   "execution_count": 10,
   "id": "cecb4f22",
   "metadata": {},
   "outputs": [],
   "source": [
    "arr = np.array([1, 2, 3, 4, 5, 6, 7, 8])"
   ]
  },
  {
   "cell_type": "code",
   "execution_count": 11,
   "id": "3b47042d",
   "metadata": {},
   "outputs": [],
   "source": [
    "filter_arr = (arr % 2 == 0) & (arr > 2)"
   ]
  },
  {
   "cell_type": "code",
   "execution_count": 12,
   "id": "e3edd98c",
   "metadata": {},
   "outputs": [],
   "source": [
    "arr = arr[filter_arr]"
   ]
  },
  {
   "cell_type": "code",
   "execution_count": 13,
   "id": "8162cbca",
   "metadata": {},
   "outputs": [
    {
     "data": {
      "text/plain": [
       "array([4, 6, 8])"
      ]
     },
     "execution_count": 13,
     "metadata": {},
     "output_type": "execute_result"
    }
   ],
   "source": [
    "arr"
   ]
  },
  {
   "cell_type": "markdown",
   "id": "fd74c6fb",
   "metadata": {},
   "source": [
    "## Filter Pada Numpy Array 2D"
   ]
  },
  {
   "cell_type": "code",
   "execution_count": 14,
   "id": "ad81c86f",
   "metadata": {},
   "outputs": [],
   "source": [
    "arr = np.array([['1', 'one'],\n",
    "                ['2', 'two'],\n",
    "                ['3', 'three'],\n",
    "                ['4', 'four'],\n",
    "                ['5', 'five']])"
   ]
  },
  {
   "cell_type": "code",
   "execution_count": 15,
   "id": "5701067d",
   "metadata": {},
   "outputs": [
    {
     "data": {
      "text/plain": [
       "(5, 2)"
      ]
     },
     "execution_count": 15,
     "metadata": {},
     "output_type": "execute_result"
    }
   ],
   "source": [
    "arr.shape"
   ]
  },
  {
   "cell_type": "code",
   "execution_count": 16,
   "id": "e84213bb",
   "metadata": {},
   "outputs": [],
   "source": [
    "filter_arr = np.array(['two', 'four'])"
   ]
  },
  {
   "cell_type": "code",
   "execution_count": 18,
   "id": "57e0e596",
   "metadata": {},
   "outputs": [],
   "source": [
    "arr = arr[np.in1d(arr[:, 1], filter_arr)]"
   ]
  },
  {
   "cell_type": "code",
   "execution_count": 20,
   "id": "d9bba42f",
   "metadata": {},
   "outputs": [
    {
     "data": {
      "text/plain": [
       "array([['2', 'two'],\n",
       "       ['4', 'four']], dtype='<U5')"
      ]
     },
     "execution_count": 20,
     "metadata": {},
     "output_type": "execute_result"
    }
   ],
   "source": [
    "arr"
   ]
  },
  {
   "cell_type": "code",
   "execution_count": null,
   "id": "c868db5b",
   "metadata": {},
   "outputs": [],
   "source": []
  },
  {
   "cell_type": "code",
   "execution_count": null,
   "id": "f2164b10",
   "metadata": {},
   "outputs": [],
   "source": []
  }
 ],
 "metadata": {
  "kernelspec": {
   "display_name": "Python 3 (ipykernel)",
   "language": "python",
   "name": "python3"
  },
  "language_info": {
   "codemirror_mode": {
    "name": "ipython",
    "version": 3
   },
   "file_extension": ".py",
   "mimetype": "text/x-python",
   "name": "python",
   "nbconvert_exporter": "python",
   "pygments_lexer": "ipython3",
   "version": "3.10.7"
  }
 },
 "nbformat": 4,
 "nbformat_minor": 5
}
