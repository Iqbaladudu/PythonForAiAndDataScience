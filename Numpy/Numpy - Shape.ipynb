{
 "cells": [
  {
   "cell_type": "markdown",
   "id": "cce96696-5644-4038-81f9-8c857ee3f37c",
   "metadata": {},
   "source": [
    "## Mendapatkan Shape dari Array"
   ]
  },
  {
   "cell_type": "code",
   "execution_count": 1,
   "id": "322d8611-65eb-4cc3-9ac4-e7d5b9af7ab5",
   "metadata": {
    "tags": []
   },
   "outputs": [],
   "source": [
    "import numpy as np"
   ]
  },
  {
   "cell_type": "code",
   "execution_count": 3,
   "id": "db4b6d80-e7d9-41c9-9900-646bcc544d87",
   "metadata": {
    "tags": []
   },
   "outputs": [],
   "source": [
    "arr = np.array([[1, 2, 3, 4], [5, 6, 7, 8]])"
   ]
  },
  {
   "cell_type": "code",
   "execution_count": 4,
   "id": "53230f37-1e12-435b-b9b0-4f0673b4fdf8",
   "metadata": {
    "tags": []
   },
   "outputs": [
    {
     "data": {
      "text/plain": [
       "(2, 4)"
      ]
     },
     "execution_count": 4,
     "metadata": {},
     "output_type": "execute_result"
    }
   ],
   "source": [
    "arr.shape"
   ]
  },
  {
   "cell_type": "code",
   "execution_count": 5,
   "id": "9525fde8-f1cc-4375-9540-ce00ac4800c9",
   "metadata": {
    "tags": []
   },
   "outputs": [
    {
     "data": {
      "text/plain": [
       "8"
      ]
     },
     "execution_count": 5,
     "metadata": {},
     "output_type": "execute_result"
    }
   ],
   "source": [
    "arr.size"
   ]
  },
  {
   "cell_type": "code",
   "execution_count": 7,
   "id": "26ee7e15-5d31-476b-8fe6-f94cb715823d",
   "metadata": {
    "tags": []
   },
   "outputs": [
    {
     "data": {
      "text/plain": [
       "2"
      ]
     },
     "execution_count": 7,
     "metadata": {},
     "output_type": "execute_result"
    }
   ],
   "source": [
    "# Jumlah dimensi\n",
    "arr.ndim"
   ]
  },
  {
   "cell_type": "markdown",
   "id": "9e433a39-732f-485e-912d-67531439b222",
   "metadata": {},
   "source": [
    "## Mendefenisikan Dimensi"
   ]
  },
  {
   "cell_type": "code",
   "execution_count": 8,
   "id": "95cff76a-4f1b-4d6e-90b0-8581b0905701",
   "metadata": {
    "tags": []
   },
   "outputs": [],
   "source": [
    "arr = np.array([1, 2, 3, 4], ndmin=5)"
   ]
  },
  {
   "cell_type": "code",
   "execution_count": 10,
   "id": "340c103d-dc15-4e9e-936f-da7b3f6be5c3",
   "metadata": {
    "tags": []
   },
   "outputs": [
    {
     "data": {
      "text/plain": [
       "(1, 1, 1, 1, 4)"
      ]
     },
     "execution_count": 10,
     "metadata": {},
     "output_type": "execute_result"
    }
   ],
   "source": [
    "arr.shape"
   ]
  },
  {
   "cell_type": "code",
   "execution_count": 11,
   "id": "773a6ec8-807c-4085-b02d-38ca0d495b82",
   "metadata": {
    "tags": []
   },
   "outputs": [
    {
     "data": {
      "text/plain": [
       "4"
      ]
     },
     "execution_count": 11,
     "metadata": {},
     "output_type": "execute_result"
    }
   ],
   "source": [
    "arr.size"
   ]
  },
  {
   "cell_type": "code",
   "execution_count": 12,
   "id": "1136d966-8194-4c01-adc7-818fd77465e6",
   "metadata": {
    "tags": []
   },
   "outputs": [
    {
     "data": {
      "text/plain": [
       "5"
      ]
     },
     "execution_count": 12,
     "metadata": {},
     "output_type": "execute_result"
    }
   ],
   "source": [
    "arr.ndim"
   ]
  },
  {
   "cell_type": "markdown",
   "id": "057adc5e-1cbb-4171-b271-d82b194fe795",
   "metadata": {},
   "source": [
    "## Reshape dari 1D ke 2D"
   ]
  },
  {
   "cell_type": "code",
   "execution_count": 14,
   "id": "6fb46b80-493a-4e6f-92c8-aba818848f1a",
   "metadata": {
    "tags": []
   },
   "outputs": [],
   "source": [
    "arr = np.array([1, 2, 3, 4, 5, 6, 7, 8, 9, 10, 11, 12])"
   ]
  },
  {
   "cell_type": "code",
   "execution_count": 15,
   "id": "71643abb-c32b-4f00-bd23-e030f173453f",
   "metadata": {
    "tags": []
   },
   "outputs": [
    {
     "data": {
      "text/plain": [
       "(12,)"
      ]
     },
     "execution_count": 15,
     "metadata": {},
     "output_type": "execute_result"
    }
   ],
   "source": [
    "arr.shape"
   ]
  },
  {
   "cell_type": "code",
   "execution_count": 23,
   "id": "4b4f3942-616f-45e1-9d63-7c8bbb0b5609",
   "metadata": {
    "tags": []
   },
   "outputs": [],
   "source": [
    "# Dua dimensi\n",
    "arr = arr.reshape(3, 4)"
   ]
  },
  {
   "cell_type": "code",
   "execution_count": 19,
   "id": "78c2a9ea-eff4-4fd7-af8e-06ef75fbeb81",
   "metadata": {
    "tags": []
   },
   "outputs": [
    {
     "data": {
      "text/plain": [
       "array([[ 1,  2,  3,  4],\n",
       "       [ 5,  6,  7,  8],\n",
       "       [ 9, 10, 11, 12]])"
      ]
     },
     "execution_count": 19,
     "metadata": {},
     "output_type": "execute_result"
    }
   ],
   "source": [
    "arr"
   ]
  },
  {
   "cell_type": "code",
   "execution_count": 20,
   "id": "a9e8a4f2-22f9-425e-bafb-7217ef7564c7",
   "metadata": {
    "tags": []
   },
   "outputs": [
    {
     "data": {
      "text/plain": [
       "2"
      ]
     },
     "execution_count": 20,
     "metadata": {},
     "output_type": "execute_result"
    }
   ],
   "source": [
    "arr.ndim"
   ]
  },
  {
   "cell_type": "markdown",
   "id": "c43b806f-7fb3-4bb8-b824-dce28f4487c3",
   "metadata": {},
   "source": [
    "## Reshape dari 1D ke 3D"
   ]
  },
  {
   "cell_type": "code",
   "execution_count": 21,
   "id": "3b2c9dd3-6284-47a6-a694-21e6cee396e0",
   "metadata": {
    "tags": []
   },
   "outputs": [],
   "source": [
    "arr = np.array([1, 2, 3, 4, 5, 6, 7, 8, 9, 10, 11, 12])"
   ]
  },
  {
   "cell_type": "code",
   "execution_count": 24,
   "id": "38f0c621-1c52-4e34-9efa-6f4b93bf624d",
   "metadata": {
    "tags": []
   },
   "outputs": [],
   "source": [
    "arr = arr.reshape(2, 3, 2)"
   ]
  },
  {
   "cell_type": "code",
   "execution_count": 25,
   "id": "523b585e-6c6a-40ee-b2fa-4fed4fc67293",
   "metadata": {
    "tags": []
   },
   "outputs": [
    {
     "data": {
      "text/plain": [
       "array([[[ 1,  2],\n",
       "        [ 3,  4],\n",
       "        [ 5,  6]],\n",
       "\n",
       "       [[ 7,  8],\n",
       "        [ 9, 10],\n",
       "        [11, 12]]])"
      ]
     },
     "execution_count": 25,
     "metadata": {},
     "output_type": "execute_result"
    }
   ],
   "source": [
    "arr"
   ]
  },
  {
   "cell_type": "code",
   "execution_count": 26,
   "id": "7cd1dcea-e5df-44ba-8f36-2db7526a6d1f",
   "metadata": {
    "tags": []
   },
   "outputs": [
    {
     "data": {
      "text/plain": [
       "3"
      ]
     },
     "execution_count": 26,
     "metadata": {},
     "output_type": "execute_result"
    }
   ],
   "source": [
    "arr.ndim"
   ]
  },
  {
   "cell_type": "markdown",
   "id": "6c818c8d-6335-4195-ae91-b1cdeae4838a",
   "metadata": {},
   "source": [
    "## Menggunakan -1 Pada Proses Reshaping"
   ]
  },
  {
   "cell_type": "code",
   "execution_count": 27,
   "id": "8d355b0e-408e-4ab2-b4db-4a0d7a42e3e1",
   "metadata": {
    "tags": []
   },
   "outputs": [],
   "source": [
    "arr = np.array([1, 2, 3, 4, 5, 6, 7, 8])"
   ]
  },
  {
   "cell_type": "code",
   "execution_count": 30,
   "id": "bb6eae18-dbf9-44bb-b001-e1618e01b883",
   "metadata": {
    "tags": []
   },
   "outputs": [],
   "source": [
    "# Otomatis menemukan parameternya jika diisi -1\n",
    "arr = arr.reshape(2, 2, -1)"
   ]
  },
  {
   "cell_type": "code",
   "execution_count": 31,
   "id": "e2887ae3-65ea-4dee-bf8a-e94cc377d94d",
   "metadata": {
    "tags": []
   },
   "outputs": [
    {
     "data": {
      "text/plain": [
       "(2, 2, 2)"
      ]
     },
     "execution_count": 31,
     "metadata": {},
     "output_type": "execute_result"
    }
   ],
   "source": [
    "arr.shape"
   ]
  },
  {
   "cell_type": "markdown",
   "id": "eb15291d-c136-4444-9679-ab12f899668d",
   "metadata": {},
   "source": [
    "## Melakukan Flattening Pada Array"
   ]
  },
  {
   "cell_type": "code",
   "execution_count": 32,
   "id": "9f58c961-be14-4b1a-91b9-ac66a7c84ded",
   "metadata": {
    "tags": []
   },
   "outputs": [],
   "source": [
    "arr = np.array([[1, 2, 3], [4, 5, 6]])"
   ]
  },
  {
   "cell_type": "code",
   "execution_count": 34,
   "id": "a4133db5-8f67-4836-9043-5db4c74d7307",
   "metadata": {
    "tags": []
   },
   "outputs": [],
   "source": [
    "# Mengunah dimensi menjadi 1\n",
    "arr = arr.reshape(-1)"
   ]
  },
  {
   "cell_type": "code",
   "execution_count": 35,
   "id": "5790a1e5-00cb-42b4-9b8e-c18fc09ea4bc",
   "metadata": {
    "tags": []
   },
   "outputs": [
    {
     "data": {
      "text/plain": [
       "array([1, 2, 3, 4, 5, 6])"
      ]
     },
     "execution_count": 35,
     "metadata": {},
     "output_type": "execute_result"
    }
   ],
   "source": [
    "arr"
   ]
  },
  {
   "cell_type": "code",
   "execution_count": 36,
   "id": "46cb7fcb-e6b5-40ec-9f6b-d9c9f8a98cd1",
   "metadata": {
    "tags": []
   },
   "outputs": [
    {
     "data": {
      "text/plain": [
       "1"
      ]
     },
     "execution_count": 36,
     "metadata": {},
     "output_type": "execute_result"
    }
   ],
   "source": [
    "arr.ndim"
   ]
  },
  {
   "cell_type": "code",
   "execution_count": 37,
   "id": "7d8899ca-5fa4-4fcd-8574-ca76748561a0",
   "metadata": {
    "tags": []
   },
   "outputs": [
    {
     "data": {
      "text/plain": [
       "(6,)"
      ]
     },
     "execution_count": 37,
     "metadata": {},
     "output_type": "execute_result"
    }
   ],
   "source": [
    "arr.shape"
   ]
  },
  {
   "cell_type": "code",
   "execution_count": 42,
   "id": "397a02ef-9936-4e08-aee9-3243cb766771",
   "metadata": {
    "tags": []
   },
   "outputs": [],
   "source": [
    "arr = arr.reshape(2, 3)"
   ]
  },
  {
   "cell_type": "code",
   "execution_count": 43,
   "id": "ded6d5c4-ced3-4411-8d61-458b63009129",
   "metadata": {
    "tags": []
   },
   "outputs": [
    {
     "data": {
      "text/plain": [
       "array([[1, 2, 3],\n",
       "       [4, 5, 6]])"
      ]
     },
     "execution_count": 43,
     "metadata": {},
     "output_type": "execute_result"
    }
   ],
   "source": [
    "arr"
   ]
  },
  {
   "cell_type": "code",
   "execution_count": 44,
   "id": "7a156c73-74e5-48d1-b662-4903d2b573ec",
   "metadata": {
    "tags": []
   },
   "outputs": [
    {
     "data": {
      "text/plain": [
       "2"
      ]
     },
     "execution_count": 44,
     "metadata": {},
     "output_type": "execute_result"
    }
   ],
   "source": [
    "arr.ndim"
   ]
  },
  {
   "cell_type": "code",
   "execution_count": 45,
   "id": "fa811a30-7a06-4191-b261-fdaf83aeaab0",
   "metadata": {
    "tags": []
   },
   "outputs": [],
   "source": [
    "arr = arr.flatten()"
   ]
  },
  {
   "cell_type": "code",
   "execution_count": 46,
   "id": "2113a6e6-1c67-49d8-9d6e-b2a8e1d1c3ae",
   "metadata": {
    "tags": []
   },
   "outputs": [
    {
     "data": {
      "text/plain": [
       "array([1, 2, 3, 4, 5, 6])"
      ]
     },
     "execution_count": 46,
     "metadata": {},
     "output_type": "execute_result"
    }
   ],
   "source": [
    "arr"
   ]
  },
  {
   "cell_type": "code",
   "execution_count": 47,
   "id": "653acb91-0316-4b10-9578-562130dfccb7",
   "metadata": {
    "tags": []
   },
   "outputs": [
    {
     "data": {
      "text/plain": [
       "1"
      ]
     },
     "execution_count": 47,
     "metadata": {},
     "output_type": "execute_result"
    }
   ],
   "source": [
    "arr.ndim"
   ]
  },
  {
   "cell_type": "markdown",
   "id": "b6e89d76-3902-4518-9345-f70262642577",
   "metadata": {},
   "source": [
    "## Melakukan Duplikasi Pada Array Menggunakan Copy()"
   ]
  },
  {
   "cell_type": "code",
   "execution_count": 48,
   "id": "761f583d-9771-4fd6-adfb-9f90e5fa4f64",
   "metadata": {
    "tags": []
   },
   "outputs": [],
   "source": [
    "arr = np.array([1, 2, 3, 4, 5])\n",
    "x = arr.copy()"
   ]
  },
  {
   "cell_type": "code",
   "execution_count": 49,
   "id": "7f946a01-28d8-4ca2-806c-a013fa642bfd",
   "metadata": {
    "tags": []
   },
   "outputs": [],
   "source": [
    "arr[0] = 42"
   ]
  },
  {
   "cell_type": "code",
   "execution_count": 53,
   "id": "5cf025f2-f1df-486a-9668-de911b85d190",
   "metadata": {
    "tags": []
   },
   "outputs": [
    {
     "data": {
      "text/plain": [
       "(42, 1)"
      ]
     },
     "execution_count": 53,
     "metadata": {},
     "output_type": "execute_result"
    }
   ],
   "source": [
    "# nilai x tidak berubah\n",
    "arr[0], x[0]"
   ]
  },
  {
   "cell_type": "markdown",
   "id": "b383e177-637f-4e8a-8e74-1bee4dc75991",
   "metadata": {},
   "source": [
    "## Melakukan Duplikasi Pada Array Menggunakan View"
   ]
  },
  {
   "cell_type": "code",
   "execution_count": 54,
   "id": "448bdb20-81bf-4f04-9da6-611e20b124c9",
   "metadata": {
    "tags": []
   },
   "outputs": [],
   "source": [
    "arr = np.array([1, 2, 3, 4, 5])\n",
    "x = arr.view()"
   ]
  },
  {
   "cell_type": "code",
   "execution_count": 55,
   "id": "5f493b24-c2fe-4d13-92fa-b3e42f1f49f6",
   "metadata": {
    "tags": []
   },
   "outputs": [],
   "source": [
    "arr[0] = 192"
   ]
  },
  {
   "cell_type": "code",
   "execution_count": 56,
   "id": "160a310e-8b53-4d82-a89e-c37465f5f172",
   "metadata": {
    "tags": []
   },
   "outputs": [
    {
     "data": {
      "text/plain": [
       "(192, 192)"
      ]
     },
     "execution_count": 56,
     "metadata": {},
     "output_type": "execute_result"
    }
   ],
   "source": [
    "# nilai x ikut berubah\n",
    "arr[0], x[0]"
   ]
  },
  {
   "cell_type": "code",
   "execution_count": null,
   "id": "5c4d5a93-0c4e-4469-b8e2-53a036cc8379",
   "metadata": {},
   "outputs": [],
   "source": []
  }
 ],
 "metadata": {
  "kernelspec": {
   "display_name": "Python 3 (ipykernel)",
   "language": "python",
   "name": "python3"
  },
  "language_info": {
   "codemirror_mode": {
    "name": "ipython",
    "version": 3
   },
   "file_extension": ".py",
   "mimetype": "text/x-python",
   "name": "python",
   "nbconvert_exporter": "python",
   "pygments_lexer": "ipython3",
   "version": "3.10.7"
  }
 },
 "nbformat": 4,
 "nbformat_minor": 5
}
