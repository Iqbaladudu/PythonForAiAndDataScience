{
 "cells": [
  {
   "cell_type": "code",
   "execution_count": 1,
   "id": "226704a9-7793-4b89-ac91-d48a9c2ff1a2",
   "metadata": {
    "tags": []
   },
   "outputs": [],
   "source": [
    "import numpy as np"
   ]
  },
  {
   "cell_type": "markdown",
   "id": "fedb4812-4526-4a49-a3d7-7fb97e159425",
   "metadata": {
    "tags": []
   },
   "source": [
    "## Membuat Numpy Array"
   ]
  },
  {
   "cell_type": "code",
   "execution_count": 7,
   "id": "ec7165bc-fbb6-411f-b72b-d61d8ade4833",
   "metadata": {
    "tags": []
   },
   "outputs": [],
   "source": [
    "arr = np.array([1, 2, 3, 4, 5])"
   ]
  },
  {
   "cell_type": "code",
   "execution_count": 8,
   "id": "66253400-3016-45d2-a3e4-f56e5176faac",
   "metadata": {
    "tags": []
   },
   "outputs": [
    {
     "name": "stdout",
     "output_type": "stream",
     "text": [
      "[1 2 3 4 5]\n"
     ]
    }
   ],
   "source": [
    "print(arr)"
   ]
  },
  {
   "cell_type": "code",
   "execution_count": 9,
   "id": "df81b5a7-e203-416f-bc89-688aaea344b6",
   "metadata": {
    "tags": []
   },
   "outputs": [
    {
     "name": "stdout",
     "output_type": "stream",
     "text": [
      "<class 'numpy.ndarray'>\n"
     ]
    }
   ],
   "source": [
    "print(type(arr))"
   ]
  },
  {
   "cell_type": "code",
   "execution_count": 11,
   "id": "c30c5818-b85f-40f1-bcd7-c524110bbe0c",
   "metadata": {
    "tags": []
   },
   "outputs": [
    {
     "data": {
      "text/plain": [
       "(list, list)"
      ]
     },
     "execution_count": 11,
     "metadata": {},
     "output_type": "execute_result"
    }
   ],
   "source": [
    "# Python list\n",
    "a = [1, 2, 3, 4]\n",
    "b = [5, 6, 7, 8]\n",
    "\n",
    "type(a), type(b)"
   ]
  },
  {
   "cell_type": "code",
   "execution_count": 12,
   "id": "1a979256-135b-4e16-8232-1cbea69bd043",
   "metadata": {
    "tags": []
   },
   "outputs": [
    {
     "data": {
      "text/plain": [
       "[1, 2, 3, 4, 5, 6, 7, 8]"
      ]
     },
     "execution_count": 12,
     "metadata": {},
     "output_type": "execute_result"
    }
   ],
   "source": [
    "a + b"
   ]
  },
  {
   "cell_type": "code",
   "execution_count": 13,
   "id": "b6db57af-cdf7-42f8-ae65-2ea505afa61a",
   "metadata": {
    "tags": []
   },
   "outputs": [
    {
     "ename": "TypeError",
     "evalue": "can't multiply sequence by non-int of type 'list'",
     "output_type": "error",
     "traceback": [
      "\u001b[0;31m---------------------------------------------------------------------------\u001b[0m",
      "\u001b[0;31mTypeError\u001b[0m                                 Traceback (most recent call last)",
      "Cell \u001b[0;32mIn[13], line 1\u001b[0m\n\u001b[0;32m----> 1\u001b[0m \u001b[43ma\u001b[49m\u001b[43m \u001b[49m\u001b[38;5;241;43m*\u001b[39;49m\u001b[43m \u001b[49m\u001b[43mb\u001b[49m\n",
      "\u001b[0;31mTypeError\u001b[0m: can't multiply sequence by non-int of type 'list'"
     ]
    }
   ],
   "source": [
    "a * b"
   ]
  },
  {
   "cell_type": "code",
   "execution_count": 14,
   "id": "18c38d44-492e-42da-a950-6c52b4aa5e8a",
   "metadata": {
    "tags": []
   },
   "outputs": [
    {
     "data": {
      "text/plain": [
       "(numpy.ndarray, numpy.ndarray)"
      ]
     },
     "execution_count": 14,
     "metadata": {},
     "output_type": "execute_result"
    }
   ],
   "source": [
    "arrayA = np.array(a)\n",
    "arrayB = np.array(b)\n",
    "\n",
    "type(arrayA), type(arrayB)"
   ]
  },
  {
   "cell_type": "code",
   "execution_count": 18,
   "id": "e5af44e8-1658-4a42-9d89-b1734fb6e265",
   "metadata": {
    "tags": []
   },
   "outputs": [
    {
     "data": {
      "text/plain": [
       "array([ 6,  8, 10, 12])"
      ]
     },
     "execution_count": 18,
     "metadata": {},
     "output_type": "execute_result"
    }
   ],
   "source": [
    "arrayA + arrayB"
   ]
  },
  {
   "cell_type": "code",
   "execution_count": 19,
   "id": "4715f5eb-3466-4911-9467-2714a75655e0",
   "metadata": {
    "tags": []
   },
   "outputs": [
    {
     "data": {
      "text/plain": [
       "array([ 5, 12, 21, 32])"
      ]
     },
     "execution_count": 19,
     "metadata": {},
     "output_type": "execute_result"
    }
   ],
   "source": [
    "arrayA * arrayB"
   ]
  },
  {
   "cell_type": "code",
   "execution_count": 21,
   "id": "756274a9-3403-4114-ab84-f5cfe13a4e51",
   "metadata": {
    "tags": []
   },
   "outputs": [
    {
     "data": {
      "text/plain": [
       "array([0.2       , 0.33333333, 0.42857143, 0.5       ])"
      ]
     },
     "execution_count": 21,
     "metadata": {},
     "output_type": "execute_result"
    }
   ],
   "source": [
    "arrayA / arrayB"
   ]
  },
  {
   "cell_type": "markdown",
   "id": "b0761363-fc2c-4e23-8791-ff4b7ab1c625",
   "metadata": {},
   "source": [
    "## Membuat Numpy Array 0D"
   ]
  },
  {
   "cell_type": "code",
   "execution_count": 23,
   "id": "028b67e1-291c-4154-8a60-ee8685cc0fec",
   "metadata": {
    "tags": []
   },
   "outputs": [],
   "source": [
    "arr = np.array(42)"
   ]
  },
  {
   "cell_type": "code",
   "execution_count": 24,
   "id": "fddb6fa1-0372-421f-98da-2693c298c53d",
   "metadata": {
    "tags": []
   },
   "outputs": [
    {
     "name": "stdout",
     "output_type": "stream",
     "text": [
      "42\n"
     ]
    }
   ],
   "source": [
    "print(arr)"
   ]
  },
  {
   "cell_type": "markdown",
   "id": "c3f9cfd3-0232-4d71-8fe0-48423cb8f941",
   "metadata": {},
   "source": [
    "## Membuat Numpy Array 1D"
   ]
  },
  {
   "cell_type": "code",
   "execution_count": 25,
   "id": "9b6f35bd-637b-46e5-8861-7046ea3dbc40",
   "metadata": {
    "tags": []
   },
   "outputs": [],
   "source": [
    "arr = np.array([1, 2, 3, 4, 5])"
   ]
  },
  {
   "cell_type": "code",
   "execution_count": 26,
   "id": "c4a94e63-9fa6-4630-b63d-bbd8e170585f",
   "metadata": {
    "tags": []
   },
   "outputs": [
    {
     "name": "stdout",
     "output_type": "stream",
     "text": [
      "[1 2 3 4 5]\n"
     ]
    }
   ],
   "source": [
    "print(arr)"
   ]
  },
  {
   "cell_type": "markdown",
   "id": "a7f5f8c5-e65e-49f2-a443-f9816dd8af22",
   "metadata": {},
   "source": [
    "## Membuat Numpy Array 2D"
   ]
  },
  {
   "cell_type": "code",
   "execution_count": 27,
   "id": "223e0d43-0299-4a73-9166-fb4dee9bff0a",
   "metadata": {
    "tags": []
   },
   "outputs": [],
   "source": [
    "arr = np.array([[1, 2, 3],\n",
    "               [4, 5, 6]])"
   ]
  },
  {
   "cell_type": "code",
   "execution_count": 28,
   "id": "abd3a468-2225-4dbb-95a0-4adfa0e48d8b",
   "metadata": {
    "tags": []
   },
   "outputs": [
    {
     "name": "stdout",
     "output_type": "stream",
     "text": [
      "[[1 2 3]\n",
      " [4 5 6]]\n"
     ]
    }
   ],
   "source": [
    "print(arr)"
   ]
  },
  {
   "cell_type": "markdown",
   "id": "3cf2a551-25e8-410a-bfb3-6e3b1d4971dc",
   "metadata": {},
   "source": [
    "## Membuat Numpy Array 3D"
   ]
  },
  {
   "cell_type": "code",
   "execution_count": 29,
   "id": "c3aa22e5-1e6f-46cd-bf29-928b1dbe88c7",
   "metadata": {
    "tags": []
   },
   "outputs": [],
   "source": [
    "arr = np.array([[[1, 2, 3], [4, 5, 6]],\n",
    "               [[1, 2, 3], [4, 5, 6]]])"
   ]
  },
  {
   "cell_type": "code",
   "execution_count": 32,
   "id": "b2d45148-eb72-484f-a67d-86e34bd72042",
   "metadata": {
    "tags": []
   },
   "outputs": [
    {
     "name": "stdout",
     "output_type": "stream",
     "text": [
      "[[[1 2 3]\n",
      "  [4 5 6]]\n",
      "\n",
      " [[1 2 3]\n",
      "  [4 5 6]]]\n"
     ]
    }
   ],
   "source": [
    "print(arr)"
   ]
  },
  {
   "cell_type": "markdown",
   "id": "6e4c6268-07b5-455c-a5cf-89ce5a493253",
   "metadata": {},
   "source": [
    "## Membuat Numpy Array 0s dan 1s"
   ]
  },
  {
   "cell_type": "code",
   "execution_count": 34,
   "id": "3df182b8-5341-40cb-bcb7-946565ed4141",
   "metadata": {
    "tags": []
   },
   "outputs": [],
   "source": [
    "arr = np.zeros(5)"
   ]
  },
  {
   "cell_type": "code",
   "execution_count": 35,
   "id": "fa91d738-506b-40c3-b44c-dfef65486e39",
   "metadata": {
    "tags": []
   },
   "outputs": [
    {
     "name": "stdout",
     "output_type": "stream",
     "text": [
      "[0. 0. 0. 0. 0.]\n"
     ]
    }
   ],
   "source": [
    "print(arr)"
   ]
  },
  {
   "cell_type": "code",
   "execution_count": 36,
   "id": "3768cd0f-06db-4f0b-9c7b-5523caf690cc",
   "metadata": {
    "tags": []
   },
   "outputs": [],
   "source": [
    "arr = np.zeros((5, 2))"
   ]
  },
  {
   "cell_type": "code",
   "execution_count": 37,
   "id": "0b6240d4-6007-4bf6-917d-d30e52dacb92",
   "metadata": {
    "tags": []
   },
   "outputs": [
    {
     "name": "stdout",
     "output_type": "stream",
     "text": [
      "[[0. 0.]\n",
      " [0. 0.]\n",
      " [0. 0.]\n",
      " [0. 0.]\n",
      " [0. 0.]]\n"
     ]
    }
   ],
   "source": [
    "print(arr)"
   ]
  },
  {
   "cell_type": "code",
   "execution_count": 38,
   "id": "b06adcbf-0ee2-4214-a935-38fd2637e48b",
   "metadata": {
    "tags": []
   },
   "outputs": [],
   "source": [
    "arr = np.ones((7, 7))"
   ]
  },
  {
   "cell_type": "code",
   "execution_count": 39,
   "id": "358bf11b-8762-4959-8ce9-bb30ae5e8800",
   "metadata": {
    "tags": []
   },
   "outputs": [
    {
     "name": "stdout",
     "output_type": "stream",
     "text": [
      "[[1. 1. 1. 1. 1. 1. 1.]\n",
      " [1. 1. 1. 1. 1. 1. 1.]\n",
      " [1. 1. 1. 1. 1. 1. 1.]\n",
      " [1. 1. 1. 1. 1. 1. 1.]\n",
      " [1. 1. 1. 1. 1. 1. 1.]\n",
      " [1. 1. 1. 1. 1. 1. 1.]\n",
      " [1. 1. 1. 1. 1. 1. 1.]]\n"
     ]
    }
   ],
   "source": [
    "print(arr)"
   ]
  },
  {
   "cell_type": "code",
   "execution_count": 41,
   "id": "1ce8c332-c8f5-4402-81b6-b7c89ed03956",
   "metadata": {
    "tags": []
   },
   "outputs": [],
   "source": [
    "arr = np.ones((7, 4, 1))"
   ]
  },
  {
   "cell_type": "code",
   "execution_count": 42,
   "id": "68699688-1dbd-41d6-9b99-5a9b4fed934c",
   "metadata": {
    "tags": []
   },
   "outputs": [
    {
     "name": "stdout",
     "output_type": "stream",
     "text": [
      "[[[1.]\n",
      "  [1.]\n",
      "  [1.]\n",
      "  [1.]]\n",
      "\n",
      " [[1.]\n",
      "  [1.]\n",
      "  [1.]\n",
      "  [1.]]\n",
      "\n",
      " [[1.]\n",
      "  [1.]\n",
      "  [1.]\n",
      "  [1.]]\n",
      "\n",
      " [[1.]\n",
      "  [1.]\n",
      "  [1.]\n",
      "  [1.]]\n",
      "\n",
      " [[1.]\n",
      "  [1.]\n",
      "  [1.]\n",
      "  [1.]]\n",
      "\n",
      " [[1.]\n",
      "  [1.]\n",
      "  [1.]\n",
      "  [1.]]\n",
      "\n",
      " [[1.]\n",
      "  [1.]\n",
      "  [1.]\n",
      "  [1.]]]\n"
     ]
    }
   ],
   "source": [
    "print(arr)"
   ]
  },
  {
   "cell_type": "markdown",
   "id": "1b5b6ceb-78cf-4dfd-be38-d4068bcbdbb0",
   "metadata": {},
   "source": [
    "## Menghapus Array"
   ]
  },
  {
   "cell_type": "code",
   "execution_count": 45,
   "id": "59340f60-8012-4902-97d0-27418fd82c01",
   "metadata": {
    "tags": []
   },
   "outputs": [],
   "source": [
    "arr = np.array([[1, 2, 3], [4, 5, 6], [7, 8, 9]])\n"
   ]
  },
  {
   "cell_type": "code",
   "execution_count": 46,
   "id": "55552508-9d96-487f-b809-48f1032bfb16",
   "metadata": {
    "tags": []
   },
   "outputs": [],
   "source": [
    "arr = np.delete(arr, 1, axis=0)"
   ]
  },
  {
   "cell_type": "code",
   "execution_count": 47,
   "id": "eae14f35-260d-41c8-b232-ce57337735cc",
   "metadata": {
    "tags": []
   },
   "outputs": [
    {
     "name": "stdout",
     "output_type": "stream",
     "text": [
      "[[1 2 3]\n",
      " [7 8 9]]\n"
     ]
    }
   ],
   "source": [
    "print(arr)"
   ]
  },
  {
   "cell_type": "markdown",
   "id": "10eeca64-22ab-4062-b869-3d37f3de8650",
   "metadata": {},
   "source": [
    "## Mengakses Elemen Pada Numpy Array 1D"
   ]
  },
  {
   "cell_type": "code",
   "execution_count": 48,
   "id": "fb4d28d4-4410-4265-983d-5fb3ae3b17a5",
   "metadata": {
    "tags": []
   },
   "outputs": [],
   "source": [
    "arr = np.array([1, 2, 3, 4])"
   ]
  },
  {
   "cell_type": "code",
   "execution_count": 49,
   "id": "53afa11d-2012-459b-af8d-9c09358e4590",
   "metadata": {
    "tags": []
   },
   "outputs": [
    {
     "data": {
      "text/plain": [
       "2"
      ]
     },
     "execution_count": 49,
     "metadata": {},
     "output_type": "execute_result"
    }
   ],
   "source": [
    "arr[1]"
   ]
  },
  {
   "cell_type": "code",
   "execution_count": 50,
   "id": "2deacff2-2618-48c8-8bb6-2ca19f5df685",
   "metadata": {
    "tags": []
   },
   "outputs": [
    {
     "data": {
      "text/plain": [
       "array([2, 3, 4])"
      ]
     },
     "execution_count": 50,
     "metadata": {},
     "output_type": "execute_result"
    }
   ],
   "source": [
    "arr[1:4]"
   ]
  },
  {
   "cell_type": "markdown",
   "id": "7663362e-db88-4858-84c6-54126fe41fca",
   "metadata": {},
   "source": [
    "## Mengakses Elemen Pada Numpy Array 2D"
   ]
  },
  {
   "cell_type": "code",
   "execution_count": 52,
   "id": "14469ede-936f-49a7-bdef-ea863ea4f7c5",
   "metadata": {
    "tags": []
   },
   "outputs": [],
   "source": [
    "arr = np.array([[1, 2, 3, 4, 5],\n",
    "               [6, 7, 8, 9, 10]])"
   ]
  },
  {
   "cell_type": "code",
   "execution_count": 53,
   "id": "b3896919-87d4-43b7-8b32-b0d1de624e9f",
   "metadata": {
    "tags": []
   },
   "outputs": [
    {
     "name": "stdout",
     "output_type": "stream",
     "text": [
      "10\n"
     ]
    }
   ],
   "source": [
    "print(arr[1, 4])"
   ]
  },
  {
   "cell_type": "code",
   "execution_count": 56,
   "id": "6f6b3ea3-7a32-4ff1-8249-c4e1da218fc4",
   "metadata": {
    "tags": []
   },
   "outputs": [
    {
     "name": "stdout",
     "output_type": "stream",
     "text": [
      "5\n"
     ]
    }
   ],
   "source": [
    "print(arr[0, 4])"
   ]
  },
  {
   "cell_type": "code",
   "execution_count": 57,
   "id": "b01d2aa3-34c8-4c4d-b1a2-897d96d81fdf",
   "metadata": {
    "tags": []
   },
   "outputs": [
    {
     "name": "stdout",
     "output_type": "stream",
     "text": [
      "10\n"
     ]
    }
   ],
   "source": [
    "print(arr[1, -1])"
   ]
  },
  {
   "cell_type": "code",
   "execution_count": 58,
   "id": "616606c5-c02b-47a6-988f-026c8b7a3800",
   "metadata": {
    "tags": []
   },
   "outputs": [
    {
     "name": "stdout",
     "output_type": "stream",
     "text": [
      "[7 8 9]\n"
     ]
    }
   ],
   "source": [
    "print(arr[1, 1:4])"
   ]
  },
  {
   "cell_type": "markdown",
   "id": "b8912633-995d-4eea-9d58-e6dd074524d0",
   "metadata": {},
   "source": [
    "## Mengecek Tipe Data Pada Numpy Array"
   ]
  },
  {
   "cell_type": "code",
   "execution_count": 60,
   "id": "d9ad9138-151b-4195-bf28-fabe6fe9c623",
   "metadata": {
    "tags": []
   },
   "outputs": [],
   "source": [
    "arr = np.array([1, 2, 3, 4])"
   ]
  },
  {
   "cell_type": "code",
   "execution_count": 61,
   "id": "c2a1b30b-99f2-4ef1-9117-4d52dd0c78aa",
   "metadata": {
    "tags": []
   },
   "outputs": [
    {
     "name": "stdout",
     "output_type": "stream",
     "text": [
      "int64\n"
     ]
    }
   ],
   "source": [
    "print(arr.dtype)"
   ]
  },
  {
   "cell_type": "code",
   "execution_count": 63,
   "id": "4b64837c-5ae1-421b-ab4e-f105c9a766f4",
   "metadata": {
    "tags": []
   },
   "outputs": [],
   "source": [
    "arr = np.array([1, 2, 3, 4, 5], dtype='S')"
   ]
  },
  {
   "cell_type": "code",
   "execution_count": 64,
   "id": "a1bdc620-c217-4fe9-b179-4cc7ddb2d5a7",
   "metadata": {
    "tags": []
   },
   "outputs": [
    {
     "name": "stdout",
     "output_type": "stream",
     "text": [
      "[b'1' b'2' b'3' b'4' b'5']\n"
     ]
    }
   ],
   "source": [
    "print(arr)"
   ]
  },
  {
   "cell_type": "code",
   "execution_count": 66,
   "id": "15db9057-3548-4b17-b984-bf08d30446c4",
   "metadata": {
    "tags": []
   },
   "outputs": [],
   "source": [
    "arr = np.array([1, 2, 3, 4, 5], dtype='I')"
   ]
  },
  {
   "cell_type": "code",
   "execution_count": 67,
   "id": "11cdc90d-5d2c-4ecc-a999-94a5a21d2341",
   "metadata": {
    "tags": []
   },
   "outputs": [
    {
     "name": "stdout",
     "output_type": "stream",
     "text": [
      "uint32\n"
     ]
    }
   ],
   "source": [
    "print(arr.dtype)"
   ]
  },
  {
   "cell_type": "code",
   "execution_count": 68,
   "id": "3e8ab52f-9898-4646-83f6-c3ba9cd1b303",
   "metadata": {
    "tags": []
   },
   "outputs": [],
   "source": [
    "arr = np.array([1, 2, 3, 4, 5], dtype=np.int32)"
   ]
  },
  {
   "cell_type": "code",
   "execution_count": 69,
   "id": "cb885283-4504-4169-8ae9-84c0aff067d5",
   "metadata": {
    "tags": []
   },
   "outputs": [
    {
     "name": "stdout",
     "output_type": "stream",
     "text": [
      "int32\n"
     ]
    }
   ],
   "source": [
    "print(arr.dtype)"
   ]
  },
  {
   "cell_type": "markdown",
   "id": "630c04ff-8b36-4833-8b9e-1691c572df81",
   "metadata": {},
   "source": [
    "## Mengubah Tipe Data Pada Numpy Array"
   ]
  },
  {
   "cell_type": "code",
   "execution_count": 70,
   "id": "13803044-aca9-4d47-8e76-94afe5973dad",
   "metadata": {
    "tags": []
   },
   "outputs": [],
   "source": [
    "arr = np.array([1.1, 2.1, 3.1])"
   ]
  },
  {
   "cell_type": "code",
   "execution_count": 71,
   "id": "94fb37f8-31a2-4794-b8ea-5606b4e29082",
   "metadata": {
    "tags": []
   },
   "outputs": [
    {
     "data": {
      "text/plain": [
       "array([1.1, 2.1, 3.1])"
      ]
     },
     "execution_count": 71,
     "metadata": {},
     "output_type": "execute_result"
    }
   ],
   "source": [
    "arr"
   ]
  },
  {
   "cell_type": "code",
   "execution_count": 72,
   "id": "c6adba87-5be8-4639-a0d0-2990632bfc18",
   "metadata": {
    "tags": []
   },
   "outputs": [],
   "source": [
    "arr = arr.astype('i')"
   ]
  },
  {
   "cell_type": "code",
   "execution_count": 73,
   "id": "c4cb02f9-24ab-46f0-af10-2541eaade472",
   "metadata": {
    "tags": []
   },
   "outputs": [
    {
     "data": {
      "text/plain": [
       "array([1, 2, 3], dtype=int32)"
      ]
     },
     "execution_count": 73,
     "metadata": {},
     "output_type": "execute_result"
    }
   ],
   "source": [
    "arr"
   ]
  },
  {
   "cell_type": "code",
   "execution_count": 74,
   "id": "4e7ca06a-53d3-4872-be38-4bf66de4325f",
   "metadata": {
    "tags": []
   },
   "outputs": [
    {
     "name": "stdout",
     "output_type": "stream",
     "text": [
      "int32\n"
     ]
    }
   ],
   "source": [
    "print(arr.dtype)"
   ]
  },
  {
   "cell_type": "markdown",
   "id": "df1c55a1-81a9-4ba4-acfa-e14e88cd52cc",
   "metadata": {},
   "source": [
    "## Fungsi Arange"
   ]
  },
  {
   "cell_type": "code",
   "execution_count": 85,
   "id": "1eb6f122-3571-4111-b223-6ebbe9a2a52a",
   "metadata": {
    "tags": []
   },
   "outputs": [],
   "source": [
    "arr = np.arange(10)"
   ]
  },
  {
   "cell_type": "code",
   "execution_count": 86,
   "id": "2a238681-bcfb-4885-8b2f-141e10146fcc",
   "metadata": {
    "tags": []
   },
   "outputs": [
    {
     "name": "stdout",
     "output_type": "stream",
     "text": [
      "[0 1 2 3 4 5 6 7 8 9]\n"
     ]
    }
   ],
   "source": [
    "print(arr)"
   ]
  },
  {
   "cell_type": "code",
   "execution_count": 87,
   "id": "0035b75f-5416-4782-bf99-48cb66ea8738",
   "metadata": {
    "tags": []
   },
   "outputs": [
    {
     "name": "stdout",
     "output_type": "stream",
     "text": [
      "<class 'numpy.ndarray'>\n"
     ]
    }
   ],
   "source": [
    "print(type(arr))"
   ]
  },
  {
   "cell_type": "code",
   "execution_count": 88,
   "id": "b608c95c-dade-4461-823b-21d469e86d7f",
   "metadata": {
    "tags": []
   },
   "outputs": [],
   "source": [
    "arr = np.arange(10, 20)"
   ]
  },
  {
   "cell_type": "code",
   "execution_count": 89,
   "id": "33e64c20-8344-48cc-aa5b-db1ae3012796",
   "metadata": {
    "tags": []
   },
   "outputs": [
    {
     "name": "stdout",
     "output_type": "stream",
     "text": [
      "[10 11 12 13 14 15 16 17 18 19]\n"
     ]
    }
   ],
   "source": [
    "print(arr)"
   ]
  },
  {
   "cell_type": "code",
   "execution_count": 93,
   "id": "01b7eb39-b616-4f40-9158-77a14473cd10",
   "metadata": {
    "tags": []
   },
   "outputs": [],
   "source": [
    "arr = np.arange(10, 20, 2)"
   ]
  },
  {
   "cell_type": "code",
   "execution_count": 94,
   "id": "517cd8af-7318-4011-9412-a504df4b25e0",
   "metadata": {
    "tags": []
   },
   "outputs": [
    {
     "data": {
      "text/plain": [
       "array([10, 12, 14, 16, 18])"
      ]
     },
     "execution_count": 94,
     "metadata": {},
     "output_type": "execute_result"
    }
   ],
   "source": [
    "arr"
   ]
  },
  {
   "cell_type": "code",
   "execution_count": 95,
   "id": "e49ddc6d-bf96-4974-959b-870346beb2eb",
   "metadata": {
    "tags": []
   },
   "outputs": [],
   "source": [
    "arr = np.arange(-1, 1, 0.1)"
   ]
  },
  {
   "cell_type": "code",
   "execution_count": 96,
   "id": "a84179ce-e8e6-4cf2-9da3-a7574a923b04",
   "metadata": {
    "tags": []
   },
   "outputs": [
    {
     "data": {
      "text/plain": [
       "array([-1.00000000e+00, -9.00000000e-01, -8.00000000e-01, -7.00000000e-01,\n",
       "       -6.00000000e-01, -5.00000000e-01, -4.00000000e-01, -3.00000000e-01,\n",
       "       -2.00000000e-01, -1.00000000e-01, -2.22044605e-16,  1.00000000e-01,\n",
       "        2.00000000e-01,  3.00000000e-01,  4.00000000e-01,  5.00000000e-01,\n",
       "        6.00000000e-01,  7.00000000e-01,  8.00000000e-01,  9.00000000e-01])"
      ]
     },
     "execution_count": 96,
     "metadata": {},
     "output_type": "execute_result"
    }
   ],
   "source": [
    "arr"
   ]
  },
  {
   "cell_type": "code",
   "execution_count": null,
   "id": "cf8f8687-8ea8-470f-a2c1-ae1ba1be1a76",
   "metadata": {},
   "outputs": [],
   "source": []
  }
 ],
 "metadata": {
  "kernelspec": {
   "display_name": "Python 3 (ipykernel)",
   "language": "python",
   "name": "python3"
  },
  "language_info": {
   "codemirror_mode": {
    "name": "ipython",
    "version": 3
   },
   "file_extension": ".py",
   "mimetype": "text/x-python",
   "name": "python",
   "nbconvert_exporter": "python",
   "pygments_lexer": "ipython3",
   "version": "3.10.7"
  }
 },
 "nbformat": 4,
 "nbformat_minor": 5
}
