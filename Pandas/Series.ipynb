{
 "cells": [
  {
   "cell_type": "markdown",
   "id": "b5051f15",
   "metadata": {},
   "source": [
    "## Membuat Series Dari Sebuah List Python & Array"
   ]
  },
  {
   "cell_type": "code",
   "execution_count": 1,
   "id": "26d32800",
   "metadata": {},
   "outputs": [],
   "source": [
    "import pandas as pd"
   ]
  },
  {
   "cell_type": "code",
   "execution_count": 2,
   "id": "cb537bbf",
   "metadata": {},
   "outputs": [],
   "source": [
    "li = [1, 7, 2]"
   ]
  },
  {
   "cell_type": "code",
   "execution_count": 3,
   "id": "700f709c",
   "metadata": {},
   "outputs": [],
   "source": [
    "se = pd.Series(li)"
   ]
  },
  {
   "cell_type": "code",
   "execution_count": 5,
   "id": "1e0bdb72",
   "metadata": {},
   "outputs": [
    {
     "data": {
      "text/plain": [
       "pandas.core.series.Series"
      ]
     },
     "execution_count": 5,
     "metadata": {},
     "output_type": "execute_result"
    }
   ],
   "source": [
    "type(se)"
   ]
  },
  {
   "cell_type": "code",
   "execution_count": 6,
   "id": "97bda4a9",
   "metadata": {},
   "outputs": [],
   "source": [
    "import numpy as np"
   ]
  },
  {
   "cell_type": "code",
   "execution_count": 7,
   "id": "8204e3bd",
   "metadata": {},
   "outputs": [],
   "source": [
    "arr = np.array([1, 7, 2])"
   ]
  },
  {
   "cell_type": "code",
   "execution_count": 8,
   "id": "d439c9f8",
   "metadata": {},
   "outputs": [],
   "source": [
    "se = pd.Series(arr)"
   ]
  },
  {
   "cell_type": "markdown",
   "id": "5a28251d",
   "metadata": {},
   "source": [
    "## Mengakses Elemen Pada Series"
   ]
  },
  {
   "cell_type": "code",
   "execution_count": 9,
   "id": "6fc1ead3",
   "metadata": {},
   "outputs": [],
   "source": [
    "li = [1, 7, 2]"
   ]
  },
  {
   "cell_type": "code",
   "execution_count": 10,
   "id": "eecd1f83",
   "metadata": {},
   "outputs": [],
   "source": [
    "se = pd.Series(li)"
   ]
  },
  {
   "cell_type": "code",
   "execution_count": 15,
   "id": "364a0f76",
   "metadata": {},
   "outputs": [
    {
     "data": {
      "text/plain": [
       "2    2\n",
       "dtype: int64"
      ]
     },
     "execution_count": 15,
     "metadata": {},
     "output_type": "execute_result"
    }
   ],
   "source": [
    "se[2:]"
   ]
  },
  {
   "cell_type": "markdown",
   "id": "1b278370",
   "metadata": {},
   "source": [
    "## Memberi Label Pada Series"
   ]
  },
  {
   "cell_type": "code",
   "execution_count": 16,
   "id": "0b98c022",
   "metadata": {},
   "outputs": [],
   "source": [
    "li = [1, 7, 2]"
   ]
  },
  {
   "cell_type": "code",
   "execution_count": 17,
   "id": "819ad666",
   "metadata": {},
   "outputs": [],
   "source": [
    "se = pd.Series(li, index=['x', 'y', 'z'])"
   ]
  },
  {
   "cell_type": "code",
   "execution_count": 18,
   "id": "6b065a4b",
   "metadata": {},
   "outputs": [
    {
     "data": {
      "text/plain": [
       "x    1\n",
       "y    7\n",
       "z    2\n",
       "dtype: int64"
      ]
     },
     "execution_count": 18,
     "metadata": {},
     "output_type": "execute_result"
    }
   ],
   "source": [
    "se"
   ]
  },
  {
   "cell_type": "code",
   "execution_count": 19,
   "id": "b6d4d544",
   "metadata": {},
   "outputs": [
    {
     "data": {
      "text/plain": [
       "1"
      ]
     },
     "execution_count": 19,
     "metadata": {},
     "output_type": "execute_result"
    }
   ],
   "source": [
    "# Akses via label\n",
    "se['x']"
   ]
  },
  {
   "cell_type": "markdown",
   "id": "c8e455bb",
   "metadata": {},
   "source": [
    "## Membuat Series Dari Dictionary"
   ]
  },
  {
   "cell_type": "code",
   "execution_count": 22,
   "id": "bd57f71b",
   "metadata": {},
   "outputs": [],
   "source": [
    "calories = {\"day1\": 420, \"day2\": 380, \"day3\": 390}\n",
    "se = pd.Series(calories)"
   ]
  },
  {
   "cell_type": "code",
   "execution_count": 23,
   "id": "338124db",
   "metadata": {},
   "outputs": [
    {
     "data": {
      "text/plain": [
       "day1    420\n",
       "day2    380\n",
       "day3    390\n",
       "dtype: int64"
      ]
     },
     "execution_count": 23,
     "metadata": {},
     "output_type": "execute_result"
    }
   ],
   "source": [
    "se"
   ]
  },
  {
   "cell_type": "code",
   "execution_count": null,
   "id": "d18aa55f",
   "metadata": {},
   "outputs": [],
   "source": []
  },
  {
   "cell_type": "code",
   "execution_count": null,
   "id": "411c871e",
   "metadata": {},
   "outputs": [],
   "source": []
  }
 ],
 "metadata": {
  "kernelspec": {
   "display_name": "Python 3 (ipykernel)",
   "language": "python",
   "name": "python3"
  },
  "language_info": {
   "codemirror_mode": {
    "name": "ipython",
    "version": 3
   },
   "file_extension": ".py",
   "mimetype": "text/x-python",
   "name": "python",
   "nbconvert_exporter": "python",
   "pygments_lexer": "ipython3",
   "version": "3.10.7"
  }
 },
 "nbformat": 4,
 "nbformat_minor": 5
}
